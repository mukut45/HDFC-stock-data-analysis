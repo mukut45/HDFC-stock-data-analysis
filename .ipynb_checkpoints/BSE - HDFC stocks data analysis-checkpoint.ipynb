{
 "cells": [
  {
   "cell_type": "code",
   "execution_count": 3,
   "id": "9868b49c-6e8c-4854-b996-5da290a0795d",
   "metadata": {},
   "outputs": [
    {
     "name": "stdout",
     "output_type": "stream",
     "text": [
      "           Date  Open Price  High Price  Low Price  Close Price          WAP  \\\n",
      "0  8-April-2025     1764.10     1782.00    1750.60      1769.10  1768.287669   \n",
      "1  7-April-2025     1760.00     1779.60    1738.05      1758.15  1753.573781   \n",
      "2  4-April-2025     1808.00     1842.20    1807.95      1817.00  1825.720749   \n",
      "3  3-April-2025     1779.05     1803.85    1776.70      1793.70  1794.324004   \n",
      "4  2-April-2025     1767.30     1799.30    1767.30      1797.40  1790.067800   \n",
      "\n",
      "   No.of Shares  No. of Trades  Total Turnover (Rs.)  Deliverable Quantity  \\\n",
      "0        507374          15461          8.971832e+08              215479.0   \n",
      "1        784420          11475          1.375538e+09              648000.0   \n",
      "2        262330          11728          4.789413e+08              107297.0   \n",
      "3        219013           9740          3.929803e+08              127132.0   \n",
      "4        119365           4904          2.136714e+08               47555.0   \n",
      "\n",
      "   % Deli. Qty to Traded Qty  Spread High-Low  Spread Close-Open  \n",
      "0                      42.47            31.40               5.00  \n",
      "1                      82.61            41.55              -1.85  \n",
      "2                      40.90            34.25               9.00  \n",
      "3                      58.05            27.15              14.65  \n",
      "4                      39.84            32.00              30.10  \n"
     ]
    }
   ],
   "source": [
    "import pandas as pd # reading the data and making it to the pandas dataframe\n",
    "df = pd.read_csv(r'D:\\Information Technology\\BSE HDFC stock data analysis\\HDFC stocks raw data.csv')\n",
    "print(df.head())"
   ]
  },
  {
   "cell_type": "code",
   "execution_count": 5,
   "id": "4a452c15-592b-4756-b688-15b0c940eeb4",
   "metadata": {},
   "outputs": [
    {
     "data": {
      "text/plain": [
       "Index(['Date', 'Open Price', 'High Price', 'Low Price', 'Close Price', 'WAP',\n",
       "       'No.of Shares', 'No. of Trades', 'Total Turnover (Rs.)',\n",
       "       'Deliverable Quantity', '% Deli. Qty to Traded Qty', 'Spread High-Low',\n",
       "       'Spread Close-Open'],\n",
       "      dtype='object')"
      ]
     },
     "execution_count": 5,
     "metadata": {},
     "output_type": "execute_result"
    }
   ],
   "source": [
    "df.columns # printing all column name here"
   ]
  },
  {
   "cell_type": "code",
   "execution_count": 7,
   "id": "3269aedc-fbca-4504-a6aa-64ca70f5b465",
   "metadata": {},
   "outputs": [
    {
     "name": "stdout",
     "output_type": "stream",
     "text": [
      "<class 'pandas.core.frame.DataFrame'>\n",
      "RangeIndex: 4967 entries, 0 to 4966\n",
      "Data columns (total 13 columns):\n",
      " #   Column                     Non-Null Count  Dtype  \n",
      "---  ------                     --------------  -----  \n",
      " 0   Date                       4967 non-null   object \n",
      " 1   Open Price                 4967 non-null   float64\n",
      " 2   High Price                 4967 non-null   float64\n",
      " 3   Low Price                  4967 non-null   float64\n",
      " 4   Close Price                4967 non-null   float64\n",
      " 5   WAP                        4967 non-null   float64\n",
      " 6   No.of Shares               4967 non-null   int64  \n",
      " 7   No. of Trades              4967 non-null   int64  \n",
      " 8   Total Turnover (Rs.)       4967 non-null   float64\n",
      " 9   Deliverable Quantity       4956 non-null   float64\n",
      " 10  % Deli. Qty to Traded Qty  4956 non-null   float64\n",
      " 11  Spread High-Low            4967 non-null   float64\n",
      " 12  Spread Close-Open          4967 non-null   float64\n",
      "dtypes: float64(10), int64(2), object(1)\n",
      "memory usage: 504.6+ KB\n"
     ]
    }
   ],
   "source": [
    "df.info() # checking information about the columns of the dataset"
   ]
  },
  {
   "cell_type": "code",
   "execution_count": 9,
   "id": "d18a3148-3658-4184-83e9-71ba21eca771",
   "metadata": {},
   "outputs": [
    {
     "name": "stdout",
     "output_type": "stream",
     "text": [
      "Date                         datetime64[ns]\n",
      "Open Price                          float64\n",
      "High Price                          float64\n",
      "Low Price                           float64\n",
      "Close Price                         float64\n",
      "WAP                                 float64\n",
      "No.of Shares                          int64\n",
      "No. of Trades                         int64\n",
      "Total Turnover (Rs.)                float64\n",
      "Deliverable Quantity                float64\n",
      "% Deli. Qty to Traded Qty           float64\n",
      "Spread High-Low                     float64\n",
      "Spread Close-Open                   float64\n",
      "dtype: object\n"
     ]
    }
   ],
   "source": [
    "df['Date'] = pd.to_datetime(df['Date']) # converting the date column into datetime\n",
    "print(df.dtypes)"
   ]
  },
  {
   "cell_type": "markdown",
   "id": "8e010a22-ea9d-4d9f-9107-0d46481382df",
   "metadata": {},
   "source": [
    "### Here we are understanding the data structure"
   ]
  },
  {
   "cell_type": "code",
   "execution_count": 11,
   "id": "96a2b360-8221-47cc-8c88-bb58aa021350",
   "metadata": {},
   "outputs": [
    {
     "name": "stdout",
     "output_type": "stream",
     "text": [
      "Date_Diff\n",
      "1 days    3775\n",
      "3 days     919\n",
      "2 days     160\n",
      "4 days     101\n",
      "5 days      10\n",
      "6 days       1\n",
      "Name: count, dtype: int64\n"
     ]
    }
   ],
   "source": [
    "# Get the difference between dates,\n",
    "df = df.sort_values('Date')  # Ensure sorted\n",
    "df['Date_Diff'] = df['Date'].diff()\n",
    "\n",
    "# Unique date differences\n",
    "print(df['Date_Diff'].value_counts())"
   ]
  },
  {
   "cell_type": "code",
   "execution_count": 13,
   "id": "f4feb4b8-59ee-4ad3-8bb9-206ec6ee9009",
   "metadata": {},
   "outputs": [
    {
     "name": "stdout",
     "output_type": "stream",
     "text": [
      "           Date Date_Diff\n",
      "4965 2005-04-04    3 days\n",
      "4960 2005-04-11    3 days\n",
      "4957 2005-04-15    2 days\n",
      "4956 2005-04-18    3 days\n",
      "4951 2005-04-25    3 days\n",
      "4946 2005-05-02    3 days\n",
      "4941 2005-05-09    3 days\n",
      "4936 2005-05-16    3 days\n",
      "4931 2005-05-23    3 days\n",
      "4926 2005-05-30    3 days\n",
      "4920 2005-06-06    2 days\n",
      "4915 2005-06-13    3 days\n",
      "4910 2005-06-20    3 days\n",
      "4905 2005-06-27    3 days\n",
      "4900 2005-07-04    3 days\n",
      "4895 2005-07-11    3 days\n",
      "4890 2005-07-18    3 days\n",
      "4885 2005-07-25    3 days\n",
      "4882 2005-07-29    2 days\n",
      "4881 2005-08-01    3 days\n"
     ]
    }
   ],
   "source": [
    "# Filter rows with gaps > 1 day\n",
    "gaps = df[df['Date_Diff'] > pd.Timedelta(days=1)]\n",
    "print(gaps[['Date', 'Date_Diff']].head(20))"
   ]
  },
  {
   "cell_type": "code",
   "execution_count": 15,
   "id": "37c3e743-629d-4160-8142-e0bcadade28b",
   "metadata": {},
   "outputs": [
    {
     "name": "stdout",
     "output_type": "stream",
     "text": [
      "Missing Dates: DatetimeIndex(['2005-04-14', '2005-07-28', '2005-08-15', '2005-09-07',\n",
      "               '2005-10-12', '2005-11-03', '2005-11-04', '2005-11-15',\n",
      "               '2006-01-11', '2006-01-26',\n",
      "               ...\n",
      "               '2024-06-17', '2024-07-17', '2024-08-15', '2024-10-02',\n",
      "               '2024-11-15', '2024-11-20', '2024-12-25', '2025-02-26',\n",
      "               '2025-03-14', '2025-03-31'],\n",
      "              dtype='datetime64[ns]', length=280, freq=None)\n"
     ]
    }
   ],
   "source": [
    "# Create complete date range from start to end\n",
    "full_range = pd.date_range(start=df['Date'].min(), end=df['Date'].max(), freq='B')  # 'B' = business days\n",
    "\n",
    "# Find missing business days\n",
    "missing_dates = full_range.difference(df['Date'])\n",
    "print(\"Missing Dates:\", missing_dates)"
   ]
  },
  {
   "cell_type": "code",
   "execution_count": 17,
   "id": "20b8a4ae-2c37-4e60-a14c-3511e694775e",
   "metadata": {},
   "outputs": [
    {
     "name": "stdout",
     "output_type": "stream",
     "text": [
      "Duplicate dates:\n",
      " Empty DataFrame\n",
      "Columns: [Date, Open Price, High Price, Low Price, Close Price, WAP, No.of Shares, No. of Trades, Total Turnover (Rs.), Deliverable Quantity, % Deli. Qty to Traded Qty, Spread High-Low, Spread Close-Open, Date_Diff]\n",
      "Index: []\n"
     ]
    }
   ],
   "source": [
    "duplicates = df[df.duplicated('Date')]\n",
    "print(\"Duplicate dates:\\n\", duplicates)"
   ]
  },
  {
   "cell_type": "markdown",
   "id": "a79ffc2b-96ad-47a8-9bd6-85ed816e4885",
   "metadata": {},
   "source": [
    "### now we are doing little discriptive analysis"
   ]
  },
  {
   "cell_type": "code",
   "execution_count": 21,
   "id": "590725ae-7a7a-4cee-b88a-2cecda9b058c",
   "metadata": {},
   "outputs": [
    {
     "data": {
      "text/html": [
       "<div>\n",
       "<style scoped>\n",
       "    .dataframe tbody tr th:only-of-type {\n",
       "        vertical-align: middle;\n",
       "    }\n",
       "\n",
       "    .dataframe tbody tr th {\n",
       "        vertical-align: top;\n",
       "    }\n",
       "\n",
       "    .dataframe thead th {\n",
       "        text-align: right;\n",
       "    }\n",
       "</style>\n",
       "<table border=\"1\" class=\"dataframe\">\n",
       "  <thead>\n",
       "    <tr style=\"text-align: right;\">\n",
       "      <th></th>\n",
       "      <th>Open Price</th>\n",
       "      <th>Close Price</th>\n",
       "      <th>No.of Shares</th>\n",
       "      <th>% Deli. Qty to Traded Qty</th>\n",
       "      <th>Spread High-Low</th>\n",
       "    </tr>\n",
       "  </thead>\n",
       "  <tbody>\n",
       "    <tr>\n",
       "      <th>count</th>\n",
       "      <td>4967.000000</td>\n",
       "      <td>4967.000000</td>\n",
       "      <td>4.967000e+03</td>\n",
       "      <td>4956.000000</td>\n",
       "      <td>4967.000000</td>\n",
       "    </tr>\n",
       "    <tr>\n",
       "      <th>mean</th>\n",
       "      <td>1309.820455</td>\n",
       "      <td>1309.044272</td>\n",
       "      <td>2.568132e+05</td>\n",
       "      <td>45.170192</td>\n",
       "      <td>29.729092</td>\n",
       "    </tr>\n",
       "    <tr>\n",
       "      <th>std</th>\n",
       "      <td>512.573800</td>\n",
       "      <td>512.515953</td>\n",
       "      <td>5.170399e+05</td>\n",
       "      <td>18.127375</td>\n",
       "      <td>21.977941</td>\n",
       "    </tr>\n",
       "    <tr>\n",
       "      <th>min</th>\n",
       "      <td>405.900000</td>\n",
       "      <td>406.050000</td>\n",
       "      <td>1.687000e+03</td>\n",
       "      <td>0.270000</td>\n",
       "      <td>2.950000</td>\n",
       "    </tr>\n",
       "    <tr>\n",
       "      <th>25%</th>\n",
       "      <td>895.000000</td>\n",
       "      <td>893.100000</td>\n",
       "      <td>6.778100e+04</td>\n",
       "      <td>31.980000</td>\n",
       "      <td>15.900000</td>\n",
       "    </tr>\n",
       "    <tr>\n",
       "      <th>50%</th>\n",
       "      <td>1290.750000</td>\n",
       "      <td>1289.450000</td>\n",
       "      <td>1.299040e+05</td>\n",
       "      <td>43.010000</td>\n",
       "      <td>23.650000</td>\n",
       "    </tr>\n",
       "    <tr>\n",
       "      <th>75%</th>\n",
       "      <td>1653.000000</td>\n",
       "      <td>1653.900000</td>\n",
       "      <td>2.697310e+05</td>\n",
       "      <td>56.362500</td>\n",
       "      <td>36.575000</td>\n",
       "    </tr>\n",
       "    <tr>\n",
       "      <th>max</th>\n",
       "      <td>2564.000000</td>\n",
       "      <td>2564.950000</td>\n",
       "      <td>1.379186e+07</td>\n",
       "      <td>99.450000</td>\n",
       "      <td>288.000000</td>\n",
       "    </tr>\n",
       "  </tbody>\n",
       "</table>\n",
       "</div>"
      ],
      "text/plain": [
       "        Open Price  Close Price  No.of Shares  % Deli. Qty to Traded Qty  \\\n",
       "count  4967.000000  4967.000000  4.967000e+03                4956.000000   \n",
       "mean   1309.820455  1309.044272  2.568132e+05                  45.170192   \n",
       "std     512.573800   512.515953  5.170399e+05                  18.127375   \n",
       "min     405.900000   406.050000  1.687000e+03                   0.270000   \n",
       "25%     895.000000   893.100000  6.778100e+04                  31.980000   \n",
       "50%    1290.750000  1289.450000  1.299040e+05                  43.010000   \n",
       "75%    1653.000000  1653.900000  2.697310e+05                  56.362500   \n",
       "max    2564.000000  2564.950000  1.379186e+07                  99.450000   \n",
       "\n",
       "       Spread High-Low  \n",
       "count      4967.000000  \n",
       "mean         29.729092  \n",
       "std          21.977941  \n",
       "min           2.950000  \n",
       "25%          15.900000  \n",
       "50%          23.650000  \n",
       "75%          36.575000  \n",
       "max         288.000000  "
      ]
     },
     "execution_count": 21,
     "metadata": {},
     "output_type": "execute_result"
    }
   ],
   "source": [
    "# Basic numeric summary\n",
    "columns_to_check = ['Open Price', 'Close Price', 'No.of Shares', '% Deli. Qty to Traded Qty', 'Spread High-Low']\n",
    "\n",
    "# Summary statistics\n",
    "df[columns_to_check].describe()"
   ]
  },
  {
   "cell_type": "code",
   "execution_count": null,
   "id": "4c36b4e7-1243-413b-b396-a710130d166b",
   "metadata": {},
   "outputs": [],
   "source": []
  }
 ],
 "metadata": {
  "kernelspec": {
   "display_name": "Python 3 (ipykernel)",
   "language": "python",
   "name": "python3"
  },
  "language_info": {
   "codemirror_mode": {
    "name": "ipython",
    "version": 3
   },
   "file_extension": ".py",
   "mimetype": "text/x-python",
   "name": "python",
   "nbconvert_exporter": "python",
   "pygments_lexer": "ipython3",
   "version": "3.12.4"
  }
 },
 "nbformat": 4,
 "nbformat_minor": 5
}
