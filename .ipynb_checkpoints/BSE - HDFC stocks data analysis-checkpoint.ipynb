{
 "cells": [
  {
   "cell_type": "code",
   "execution_count": 3,
   "id": "9868b49c-6e8c-4854-b996-5da290a0795d",
   "metadata": {},
   "outputs": [
    {
     "name": "stdout",
     "output_type": "stream",
     "text": [
      "           Date  Open Price  High Price  Low Price  Close Price          WAP  \\\n",
      "0  8-April-2025     1764.10     1782.00    1750.60      1769.10  1768.287669   \n",
      "1  7-April-2025     1760.00     1779.60    1738.05      1758.15  1753.573781   \n",
      "2  4-April-2025     1808.00     1842.20    1807.95      1817.00  1825.720749   \n",
      "3  3-April-2025     1779.05     1803.85    1776.70      1793.70  1794.324004   \n",
      "4  2-April-2025     1767.30     1799.30    1767.30      1797.40  1790.067800   \n",
      "\n",
      "   No.of Shares  No. of Trades  Total Turnover (Rs.)  Deliverable Quantity  \\\n",
      "0        507374          15461          8.971832e+08              215479.0   \n",
      "1        784420          11475          1.375538e+09              648000.0   \n",
      "2        262330          11728          4.789413e+08              107297.0   \n",
      "3        219013           9740          3.929803e+08              127132.0   \n",
      "4        119365           4904          2.136714e+08               47555.0   \n",
      "\n",
      "   % Deli. Qty to Traded Qty  Spread High-Low  Spread Close-Open  \n",
      "0                      42.47            31.40               5.00  \n",
      "1                      82.61            41.55              -1.85  \n",
      "2                      40.90            34.25               9.00  \n",
      "3                      58.05            27.15              14.65  \n",
      "4                      39.84            32.00              30.10  \n"
     ]
    }
   ],
   "source": [
    "import pandas as pd # reading the data and making it to the pandas dataframe\n",
    "df = pd.read_csv(r'D:\\Information Technology\\BSE HDFC stock data analysis\\HDFC stocks raw data.csv')\n",
    "print(df.head())"
   ]
  },
  {
   "cell_type": "code",
   "execution_count": 5,
   "id": "4a452c15-592b-4756-b688-15b0c940eeb4",
   "metadata": {},
   "outputs": [
    {
     "data": {
      "text/plain": [
       "Index(['Date', 'Open Price', 'High Price', 'Low Price', 'Close Price', 'WAP',\n",
       "       'No.of Shares', 'No. of Trades', 'Total Turnover (Rs.)',\n",
       "       'Deliverable Quantity', '% Deli. Qty to Traded Qty', 'Spread High-Low',\n",
       "       'Spread Close-Open'],\n",
       "      dtype='object')"
      ]
     },
     "execution_count": 5,
     "metadata": {},
     "output_type": "execute_result"
    }
   ],
   "source": [
    "df.columns # printing all column name here"
   ]
  },
  {
   "cell_type": "code",
   "execution_count": null,
   "id": "3269aedc-fbca-4504-a6aa-64ca70f5b465",
   "metadata": {},
   "outputs": [],
   "source": []
  }
 ],
 "metadata": {
  "kernelspec": {
   "display_name": "Python 3 (ipykernel)",
   "language": "python",
   "name": "python3"
  },
  "language_info": {
   "codemirror_mode": {
    "name": "ipython",
    "version": 3
   },
   "file_extension": ".py",
   "mimetype": "text/x-python",
   "name": "python",
   "nbconvert_exporter": "python",
   "pygments_lexer": "ipython3",
   "version": "3.12.4"
  }
 },
 "nbformat": 4,
 "nbformat_minor": 5
}
